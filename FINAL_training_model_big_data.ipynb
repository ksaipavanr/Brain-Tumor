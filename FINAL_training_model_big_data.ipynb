{
  "cells": [
    {
      "cell_type": "code",
      "execution_count": 1,
      "metadata": {
        "id": "Bgxamb4sc_Ut"
      },
      "outputs": [],
      "source": [
        "import tensorflow as tf\n",
        "import numpy as np\n",
        "import matplotlib.pyplot as plt\n",
        "import cv2 as cv\n",
        "from PIL import Image\n",
        "import os"
      ]
    },
    {
      "cell_type": "markdown",
      "metadata": {
        "id": "oJ7lUNKidHC9"
      },
      "source": [
        "# Data preparation"
      ]
    },
    {
      "cell_type": "markdown",
      "metadata": {
        "id": "q7Xl7cT7fxaj"
      },
      "source": [
        "Declaring constants"
      ]
    },
    {
      "cell_type": "code",
      "execution_count": 23,
      "metadata": {},
      "outputs": [],
      "source": [
        "SIZE = 224\n",
        "PATH = r\"D:\\College\\Capstone Project 2\\data\""
      ]
    },
    {
      "cell_type": "code",
      "execution_count": 24,
      "metadata": {
        "colab": {
          "base_uri": "https://localhost:8080/"
        },
        "id": "7gkIodqZdKgb",
        "outputId": "f60e4293-4e70-4b2a-a39d-e6761a395345"
      },
      "outputs": [
        {
          "data": {
            "text/plain": [
              "(1500, 1500)"
            ]
          },
          "execution_count": 24,
          "metadata": {},
          "output_type": "execute_result"
        }
      ],
      "source": [
        "SIZE = 224\n",
        "\n",
        "path = PATH + r\"\\brain_tumor_dataset\"\n",
        "\n",
        "yes_tumor_path = path + r\"/yes\"\n",
        "no_tumor_path = path + r\"/no\"\n",
        "\n",
        "yes_tumor = os.listdir(yes_tumor_path)\n",
        "no_tumor = os.listdir(no_tumor_path)\n",
        "\n",
        "len(os.listdir(no_tumor_path)), len(os.listdir(yes_tumor_path))"
      ]
    },
    {
      "cell_type": "markdown",
      "metadata": {
        "id": "LSpBZ6QEgHIE"
      },
      "source": [
        "Resizing all images in `224x224` pixel format"
      ]
    },
    {
      "cell_type": "code",
      "execution_count": 4,
      "metadata": {
        "id": "SM5469IBf5rb"
      },
      "outputs": [],
      "source": [
        "# Resize yes_tumor images\n",
        "for p in yes_tumor:\n",
        "    path = yes_tumor_path+\"/\"+p\n",
        "    # resize_save(path)\n",
        "    try:\n",
        "        im = Image.open(path)\n",
        "        im = im.resize((SIZE, SIZE))\n",
        "        im.save(path)\n",
        "    except:\n",
        "        print(path)\n",
        "        break\n",
        "# Resize no_tumor\n",
        "for p in no_tumor:\n",
        "    path = no_tumor_path+\"/\"+p\n",
        "    # resize_save(path)\n",
        "    try:\n",
        "        im = Image.open(path)\n",
        "        im = im.resize((SIZE, SIZE))\n",
        "        im.save(path)\n",
        "    except:\n",
        "        print(path)\n",
        "        break"
      ]
    },
    {
      "cell_type": "code",
      "execution_count": 5,
      "metadata": {
        "colab": {
          "base_uri": "https://localhost:8080/"
        },
        "id": "jBF2nlLhhKe1",
        "outputId": "cee07404-ded2-4306-bc21-5356a070410a"
      },
      "outputs": [
        {
          "data": {
            "text/plain": [
              "(1500, 1500)"
            ]
          },
          "execution_count": 5,
          "metadata": {},
          "output_type": "execute_result"
        }
      ],
      "source": [
        "len(os.listdir(yes_tumor_path)), len(os.listdir(no_tumor_path))"
      ]
    },
    {
      "cell_type": "markdown",
      "metadata": {
        "id": "5AROxL9zhPD1"
      },
      "source": [
        "Creating `data` - `label` pairs\n",
        "> yes_tumor -> 1\n",
        ">>\n",
        "> no_tumor -> 0"
      ]
    },
    {
      "cell_type": "code",
      "execution_count": 6,
      "metadata": {
        "colab": {
          "base_uri": "https://localhost:8080/"
        },
        "id": "hVmLXnOvhWgK",
        "outputId": "5eb264e7-56ca-4912-e397-7573794d69b9"
      },
      "outputs": [
        {
          "data": {
            "text/plain": [
              "True"
            ]
          },
          "execution_count": 6,
          "metadata": {},
          "output_type": "execute_result"
        }
      ],
      "source": [
        "data = []\n",
        "label = []\n",
        "\n",
        "for p in yes_tumor:\n",
        "  path = yes_tumor_path+\"/\"+p\n",
        "  image = cv.imread(path)\n",
        "  data.append(image)\n",
        "  label.append(1)\n",
        "\n",
        "for p in no_tumor:\n",
        "  path = no_tumor_path+\"/\"+p\n",
        "  image = cv.imread(path)\n",
        "  data.append(image)\n",
        "  label.append(0)\n",
        "\n",
        "len(data) == len(label) == 3000\n",
        "# data[0]"
      ]
    },
    {
      "cell_type": "markdown",
      "metadata": {
        "id": "7Sr-MzUQjNF1"
      },
      "source": [
        "Normalizing data"
      ]
    },
    {
      "cell_type": "code",
      "execution_count": 7,
      "metadata": {
        "colab": {
          "base_uri": "https://localhost:8080/"
        },
        "id": "Krd2suskjQpu",
        "outputId": "f5d2a6d6-ff0d-4906-94b0-852b2a634fbe"
      },
      "outputs": [
        {
          "data": {
            "text/plain": [
              "((3000, 224, 224, 3), (3000,))"
            ]
          },
          "execution_count": 7,
          "metadata": {},
          "output_type": "execute_result"
        }
      ],
      "source": [
        "data = np.array(data)/255.0\n",
        "label = np.array(label)\n",
        "\n",
        "data.shape, label.shape"
      ]
    },
    {
      "cell_type": "markdown",
      "metadata": {
        "id": "s_tMih-vjiuU"
      },
      "source": [
        "Splitting the data in `train` and `test` in **80-20** ratio"
      ]
    },
    {
      "cell_type": "code",
      "execution_count": 8,
      "metadata": {
        "colab": {
          "base_uri": "https://localhost:8080/"
        },
        "id": "K2pHIJKDjsCR",
        "outputId": "647921dd-9434-4e88-a80a-f7781d21f04e"
      },
      "outputs": [
        {
          "data": {
            "text/plain": [
              "((2400, 224, 224, 3), (600, 224, 224, 3), (2400,), (600,))"
            ]
          },
          "execution_count": 8,
          "metadata": {},
          "output_type": "execute_result"
        }
      ],
      "source": [
        "from sklearn.model_selection import train_test_split as tts\n",
        "x_train, x_test, y_train, y_test = tts(data, label, test_size = 0.20)\n",
        "\n",
        "x_train.shape, x_test.shape, y_train.shape, y_test.shape"
      ]
    },
    {
      "cell_type": "markdown",
      "metadata": {
        "id": "29AVqqklkWoN"
      },
      "source": [
        "# Training the model"
      ]
    },
    {
      "cell_type": "code",
      "execution_count": 8,
      "metadata": {
        "id": "VCxlu2EIkVve"
      },
      "outputs": [],
      "source": [
        "from tensorflow.keras.models import Sequential\n",
        "from tensorflow.keras.layers import Conv2D, MaxPooling2D, Flatten, Dropout, Dense\n",
        "from tensorflow.keras.optimizers import Adam\n",
        "from tensorflow.keras.losses import BinaryCrossentropy"
      ]
    },
    {
      "cell_type": "code",
      "execution_count": null,
      "metadata": {
        "colab": {
          "base_uri": "https://localhost:8080/"
        },
        "id": "ti2oRBGZjufz",
        "outputId": "1d0bf465-bfce-4efe-f2b2-f97fcd61d0eb"
      },
      "outputs": [],
      "source": [
        "model_1 = Sequential()\n",
        "\n",
        "model_1.add(Conv2D(64, kernel_size=3, activation='relu'))\n",
        "model_1.add(MaxPooling2D(pool_size = (2,2)))\n",
        "\n",
        "model_1.add(Conv2D(64, kernel_size=3, activation='relu', kernel_initializer=\"he_uniform\"))\n",
        "model_1.add(Conv2D(64, kernel_size=3, activation='relu'))\n",
        "\n",
        "model_1.add(Conv2D(64, kernel_size=3, activation='relu', kernel_initializer=\"he_uniform\"))\n",
        "model_1.add(Conv2D(64, kernel_size=3, activation='relu'))\n",
        "\n",
        "model_1.add(Flatten())\n",
        "\n",
        "model_1.add(Dense(1, activation='sigmoid'))\n",
        "\n",
        "\n",
        "model_1.compile(optimizer=Adam(), loss = BinaryCrossentropy(),  metrics = [\"accuracy\"])\n",
        "\n",
        "\n",
        "history = model_1.fit(x_train, y_train, epochs = 10, validation_data=(x_test, y_test), batch_size = 16)\n",
        "\n",
        "\n",
        "model_1.save(\"Big_Brain_tumor_model_1.h5\")"
      ]
    },
    {
      "cell_type": "code",
      "execution_count": 15,
      "metadata": {
        "colab": {
          "base_uri": "https://localhost:8080/"
        },
        "id": "xsFmBxQWpeJ8",
        "outputId": "cf88bd7d-da35-488c-a123-b561eca952f7"
      },
      "outputs": [
        {
          "name": "stdout",
          "output_type": "stream",
          "text": [
            "Model: \"sequential\"\n",
            "_________________________________________________________________\n",
            " Layer (type)                Output Shape              Param #   \n",
            "=================================================================\n",
            " conv2d (Conv2D)             (None, 222, 222, 64)      1792      \n",
            "                                                                 \n",
            " max_pooling2d (MaxPooling2D  (None, 111, 111, 64)     0         \n",
            " )                                                               \n",
            "                                                                 \n",
            " conv2d_1 (Conv2D)           (None, 109, 109, 64)      36928     \n",
            "                                                                 \n",
            " conv2d_2 (Conv2D)           (None, 107, 107, 64)      36928     \n",
            "                                                                 \n",
            " conv2d_3 (Conv2D)           (None, 105, 105, 64)      36928     \n",
            "                                                                 \n",
            " conv2d_4 (Conv2D)           (None, 103, 103, 64)      36928     \n",
            "                                                                 \n",
            " flatten (Flatten)           (None, 678976)            0         \n",
            "                                                                 \n",
            " dense (Dense)               (None, 1)                 678977    \n",
            "                                                                 \n",
            "=================================================================\n",
            "Total params: 828,481\n",
            "Trainable params: 828,481\n",
            "Non-trainable params: 0\n",
            "_________________________________________________________________\n"
          ]
        }
      ],
      "source": [
        "model_1.summary()"
      ]
    },
    {
      "cell_type": "markdown",
      "metadata": {
        "id": "eMVJc_JXqQXZ"
      },
      "source": [
        "# Generating reports"
      ]
    },
    {
      "cell_type": "code",
      "execution_count": 25,
      "metadata": {},
      "outputs": [],
      "source": [
        "from  keras.models import load_model\n",
        "model_1 = load_model(PATH + r\"\\Trained_models\\Big_Brain_tumor_model_1.h5\")"
      ]
    },
    {
      "cell_type": "code",
      "execution_count": 12,
      "metadata": {},
      "outputs": [],
      "source": [
        "y_p = (model_1.predict(x_test) > 0.5).astype(\"int32\")\n",
        "# y_p = y_p.squeeze()"
      ]
    },
    {
      "cell_type": "code",
      "execution_count": 20,
      "metadata": {},
      "outputs": [],
      "source": [
        "from sklearn.metrics import confusion_matrix, classification_report"
      ]
    },
    {
      "cell_type": "code",
      "execution_count": 17,
      "metadata": {},
      "outputs": [],
      "source": [
        "y_p = y_p.squeeze()"
      ]
    },
    {
      "cell_type": "code",
      "execution_count": 18,
      "metadata": {},
      "outputs": [
        {
          "data": {
            "text/plain": [
              "((600,), (600,))"
            ]
          },
          "execution_count": 18,
          "metadata": {},
          "output_type": "execute_result"
        }
      ],
      "source": [
        "y_p.shape, y_test.shape"
      ]
    },
    {
      "cell_type": "markdown",
      "metadata": {},
      "source": [
        "Confusion matrix showing result in form of\n",
        "<br>\n",
        "[[`TN`, `FP`], <br>\n",
        " [`FN`, `TP`]]"
      ]
    },
    {
      "cell_type": "code",
      "execution_count": 19,
      "metadata": {},
      "outputs": [
        {
          "data": {
            "text/plain": [
              "array([[286,   0],\n",
              "       [  5, 309]], dtype=int64)"
            ]
          },
          "execution_count": 19,
          "metadata": {},
          "output_type": "execute_result"
        }
      ],
      "source": [
        "confusion_matrix(y_test, y_p)"
      ]
    },
    {
      "cell_type": "markdown",
      "metadata": {},
      "source": [
        "So, there were `5` incorrect predictions out of `600` total images"
      ]
    },
    {
      "cell_type": "code",
      "execution_count": 22,
      "metadata": {},
      "outputs": [
        {
          "name": "stdout",
          "output_type": "stream",
          "text": [
            "              precision    recall  f1-score   support\n",
            "\n",
            "           0       0.98      1.00      0.99       286\n",
            "           1       1.00      0.98      0.99       314\n",
            "\n",
            "    accuracy                           0.99       600\n",
            "   macro avg       0.99      0.99      0.99       600\n",
            "weighted avg       0.99      0.99      0.99       600\n",
            "\n"
          ]
        }
      ],
      "source": [
        "print(classification_report(y_test, y_p))"
      ]
    },
    {
      "cell_type": "markdown",
      "metadata": {},
      "source": [
        "The `confusion matrics'reports` show that the `accuracy` of model on `test dataset` is `99.000%`"
      ]
    },
    {
      "cell_type": "markdown",
      "metadata": {},
      "source": [
        "# Experimenting with shuffled data in same dataset"
      ]
    },
    {
      "cell_type": "code",
      "execution_count": 36,
      "metadata": {},
      "outputs": [],
      "source": [
        "import matplotlib.pyplot as plt\n",
        "import matplotlib.image as mpimg\n",
        "from keras.preprocessing.image import array_to_img\n",
        "import matplotlib.axes as ax"
      ]
    },
    {
      "cell_type": "markdown",
      "metadata": {},
      "source": [
        "Experiment 1"
      ]
    },
    {
      "cell_type": "code",
      "execution_count": 54,
      "metadata": {},
      "outputs": [
        {
          "name": "stdout",
          "output_type": "stream",
          "text": [
            "257\n",
            "312\n",
            "342\n",
            "396\n",
            "520\n"
          ]
        },
        {
          "data": {
            "text/plain": [
              "(5, 600)"
            ]
          },
          "execution_count": 54,
          "metadata": {},
          "output_type": "execute_result"
        }
      ],
      "source": [
        "incorrect = 0\n",
        "\n",
        "for i in range(len(y_p)):\n",
        "    if y_p[i] != y_test[i]:\n",
        "        print(i)\n",
        "        incorrect += 1\n",
        "incorrect, len(y_test)"
      ]
    },
    {
      "cell_type": "markdown",
      "metadata": {},
      "source": [
        "Experiment 2"
      ]
    },
    {
      "cell_type": "code",
      "execution_count": 44,
      "metadata": {},
      "outputs": [
        {
          "name": "stdout",
          "output_type": "stream",
          "text": [
            "47\n",
            "88\n",
            "127\n",
            "216\n",
            "286\n",
            "305\n",
            "316\n",
            "329\n",
            "334\n",
            "539\n"
          ]
        },
        {
          "data": {
            "text/plain": [
              "(10, 600)"
            ]
          },
          "execution_count": 44,
          "metadata": {},
          "output_type": "execute_result"
        }
      ],
      "source": [
        "incorrect = 0\n",
        "\n",
        "for i in range(len(y_p)):\n",
        "    if y_p[i] != y_test[i]:\n",
        "        print(i)\n",
        "        incorrect += 1\n",
        "incorrect, len(y_test)"
      ]
    },
    {
      "cell_type": "markdown",
      "metadata": {},
      "source": [
        "Experiment 3"
      ]
    },
    {
      "cell_type": "code",
      "execution_count": 47,
      "metadata": {},
      "outputs": [
        {
          "name": "stdout",
          "output_type": "stream",
          "text": [
            "168\n",
            "219\n",
            "229\n",
            "230\n",
            "427\n",
            "533\n",
            "534\n",
            "567\n"
          ]
        },
        {
          "data": {
            "text/plain": [
              "(8, 600)"
            ]
          },
          "execution_count": 47,
          "metadata": {},
          "output_type": "execute_result"
        }
      ],
      "source": [
        "incorrect = 0\n",
        "\n",
        "for i in range(len(y_p)):\n",
        "    if y_p[i] != y_test[i]:\n",
        "        print(i)\n",
        "        incorrect += 1\n",
        "incorrect, len(y_test)"
      ]
    },
    {
      "cell_type": "markdown",
      "metadata": {},
      "source": [
        "Experiment 4"
      ]
    },
    {
      "cell_type": "code",
      "execution_count": 50,
      "metadata": {},
      "outputs": [
        {
          "name": "stdout",
          "output_type": "stream",
          "text": [
            "5\n",
            "16\n",
            "188\n",
            "260\n",
            "399\n",
            "470\n",
            "511\n"
          ]
        },
        {
          "data": {
            "text/plain": [
              "(7, 600)"
            ]
          },
          "execution_count": 50,
          "metadata": {},
          "output_type": "execute_result"
        }
      ],
      "source": [
        "incorrect = 0\n",
        "\n",
        "for i in range(len(y_p)):\n",
        "    if y_p[i] != y_test[i]:\n",
        "        print(i)\n",
        "        incorrect += 1\n",
        "incorrect, len(y_test)"
      ]
    },
    {
      "cell_type": "markdown",
      "metadata": {},
      "source": [
        "Experiment 5"
      ]
    },
    {
      "cell_type": "code",
      "execution_count": 74,
      "metadata": {},
      "outputs": [
        {
          "name": "stdout",
          "output_type": "stream",
          "text": [
            "76\n",
            "112\n",
            "206\n",
            "295\n",
            "329\n",
            "397\n",
            "415\n"
          ]
        },
        {
          "data": {
            "text/plain": [
              "(7, 600)"
            ]
          },
          "execution_count": 74,
          "metadata": {},
          "output_type": "execute_result"
        }
      ],
      "source": [
        "incorrect = 0\n",
        "\n",
        "for i in range(len(y_p)):\n",
        "    if y_p[i] != y_test[i]:\n",
        "        print(i)\n",
        "        incorrect += 1\n",
        "incorrect, len(y_test)"
      ]
    },
    {
      "cell_type": "markdown",
      "metadata": {},
      "source": [
        "Experiment 6"
      ]
    },
    {
      "cell_type": "code",
      "execution_count": 58,
      "metadata": {},
      "outputs": [
        {
          "name": "stdout",
          "output_type": "stream",
          "text": [
            "31\n",
            "100\n",
            "176\n",
            "275\n",
            "296\n",
            "329\n",
            "367\n",
            "418\n",
            "557\n"
          ]
        },
        {
          "data": {
            "text/plain": [
              "(9, 600)"
            ]
          },
          "execution_count": 58,
          "metadata": {},
          "output_type": "execute_result"
        }
      ],
      "source": [
        "incorrect = 0\n",
        "\n",
        "for i in range(len(y_p)):\n",
        "    if y_p[i] != y_test[i]:\n",
        "        print(i)\n",
        "        incorrect += 1\n",
        "incorrect, len(y_test)"
      ]
    },
    {
      "cell_type": "markdown",
      "metadata": {},
      "source": [
        "Experiment 7"
      ]
    },
    {
      "cell_type": "code",
      "execution_count": 61,
      "metadata": {},
      "outputs": [
        {
          "name": "stdout",
          "output_type": "stream",
          "text": [
            "64\n",
            "170\n",
            "205\n",
            "273\n",
            "303\n",
            "420\n",
            "448\n",
            "518\n"
          ]
        },
        {
          "data": {
            "text/plain": [
              "(8, 600)"
            ]
          },
          "execution_count": 61,
          "metadata": {},
          "output_type": "execute_result"
        }
      ],
      "source": [
        "incorrect = 0\n",
        "\n",
        "for i in range(len(y_p)):\n",
        "    if y_p[i] != y_test[i]:\n",
        "        print(i)\n",
        "        incorrect += 1\n",
        "incorrect, len(y_test)"
      ]
    },
    {
      "cell_type": "markdown",
      "metadata": {},
      "source": [
        "Experiment 8"
      ]
    },
    {
      "cell_type": "code",
      "execution_count": 64,
      "metadata": {},
      "outputs": [
        {
          "name": "stdout",
          "output_type": "stream",
          "text": [
            "50\n",
            "161\n",
            "256\n",
            "314\n",
            "363\n",
            "589\n"
          ]
        },
        {
          "data": {
            "text/plain": [
              "(6, 600)"
            ]
          },
          "execution_count": 64,
          "metadata": {},
          "output_type": "execute_result"
        }
      ],
      "source": [
        "incorrect = 0\n",
        "\n",
        "for i in range(len(y_p)):\n",
        "    if y_p[i] != y_test[i]:\n",
        "        print(i)\n",
        "        incorrect += 1\n",
        "incorrect, len(y_test)"
      ]
    },
    {
      "cell_type": "markdown",
      "metadata": {},
      "source": [
        "Experiment 9"
      ]
    },
    {
      "cell_type": "code",
      "execution_count": 68,
      "metadata": {},
      "outputs": [
        {
          "name": "stdout",
          "output_type": "stream",
          "text": [
            "39\n",
            "196\n",
            "247\n",
            "321\n",
            "397\n",
            "507\n"
          ]
        },
        {
          "data": {
            "text/plain": [
              "(6, 600)"
            ]
          },
          "execution_count": 68,
          "metadata": {},
          "output_type": "execute_result"
        }
      ],
      "source": [
        "incorrect = 0\n",
        "\n",
        "for i in range(len(y_p)):\n",
        "    if y_p[i] != y_test[i]:\n",
        "        print(i)\n",
        "        incorrect += 1\n",
        "incorrect, len(y_test)"
      ]
    },
    {
      "cell_type": "markdown",
      "metadata": {},
      "source": [
        "Experiment 10"
      ]
    },
    {
      "cell_type": "code",
      "execution_count": 71,
      "metadata": {},
      "outputs": [
        {
          "name": "stdout",
          "output_type": "stream",
          "text": [
            "143\n",
            "163\n",
            "181\n",
            "214\n",
            "249\n",
            "298\n",
            "310\n",
            "371\n"
          ]
        },
        {
          "data": {
            "text/plain": [
              "(8, 600)"
            ]
          },
          "execution_count": 71,
          "metadata": {},
          "output_type": "execute_result"
        }
      ],
      "source": [
        "incorrect = 0\n",
        "\n",
        "for i in range(len(y_p)):\n",
        "    if y_p[i] != y_test[i]:\n",
        "        print(i)\n",
        "        incorrect += 1\n",
        "incorrect, len(y_test)"
      ]
    },
    {
      "cell_type": "markdown",
      "metadata": {},
      "source": [
        "So after various tests around 5 to 10 incorrect reports in 600 which gives an estimate of accuracy i.e. **above `98% `**"
      ]
    },
    {
      "cell_type": "code",
      "execution_count": 26,
      "metadata": {},
      "outputs": [],
      "source": [
        "accuracies =  {\"Experiment 1\" : 99.600, \n",
        "               \"Experiment 2\" : 98.333,\n",
        "               \"Experiment 3\" : 98.667,\n",
        "               \"Experiment 4\" : 98.833,\n",
        "               \"Experiment 5\" : 98.833,\n",
        "               \"Experiment 6\" : 98.500,\n",
        "               \"Experiment 7\" : 98.667,\n",
        "               \"Experiment 8\" : 99.000,\n",
        "               \"Experiment 9\" : 99.000,\n",
        "               \"Experiment 10\" : 98.667}"
      ]
    },
    {
      "cell_type": "code",
      "execution_count": 78,
      "metadata": {},
      "outputs": [],
      "source": [
        "average_accuracy = 0\n",
        "s = 0\n",
        "for key in accuracies.keys():\n",
        "    s += accuracies[key]\n",
        "\n",
        "average_accuracy = s / 10"
      ]
    },
    {
      "cell_type": "code",
      "execution_count": 79,
      "metadata": {},
      "outputs": [
        {
          "name": "stdout",
          "output_type": "stream",
          "text": [
            "After 10 experiments the average accuracy of this model for detecting brain tumor successfully is 98.81\n"
          ]
        }
      ],
      "source": [
        "print(f\"After 10 experiments the average accuracy of this model for detecting brain tumor successfully is {average_accuracy}\")"
      ]
    }
  ],
  "metadata": {
    "accelerator": "GPU",
    "colab": {
      "name": "Untitled1.ipynb",
      "provenance": []
    },
    "interpreter": {
      "hash": "078af7664bcaf73f3cc321192632dedbcf4e955e3c3b15536cc67211b78a1541"
    },
    "kernelspec": {
      "display_name": "Python 3.9.12 ('tf_gpu')",
      "language": "python",
      "name": "python3"
    },
    "language_info": {
      "codemirror_mode": {
        "name": "ipython",
        "version": 3
      },
      "file_extension": ".py",
      "mimetype": "text/x-python",
      "name": "python",
      "nbconvert_exporter": "python",
      "pygments_lexer": "ipython3",
      "version": "3.9.12"
    }
  },
  "nbformat": 4,
  "nbformat_minor": 0
}
