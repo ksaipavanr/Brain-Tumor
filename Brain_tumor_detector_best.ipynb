{
  "cells": [
    {
      "cell_type": "code",
      "execution_count": null,
      "metadata": {
        "id": "Mowa1oOD-tx7"
      },
      "outputs": [],
      "source": [
        "# !unzip \"/content/brain_tumor_dataset.zip\""
      ]
    },
    {
      "cell_type": "code",
      "execution_count": 3,
      "metadata": {
        "id": "DjknvVicByKw"
      },
      "outputs": [],
      "source": [
        "import tensorflow as tf\n",
        "import numpy as np\n",
        "import matplotlib.pyplot as plt\n",
        "import cv2 as cv\n",
        "from PIL import Image\n",
        "import os"
      ]
    },
    {
      "cell_type": "code",
      "execution_count": 2,
      "metadata": {
        "id": "FPQFXiSRBidG"
      },
      "outputs": [],
      "source": [
        "SIZE = 224\n",
        "PATH = r\"D:/College/Capstone Project 2/data\""
      ]
    },
    {
      "cell_type": "code",
      "execution_count": 4,
      "metadata": {
        "colab": {
          "base_uri": "https://localhost:8080/"
        },
        "id": "BRgilL4_Bsi6",
        "outputId": "4a8d6f7e-2d70-41b0-af06-9b65f58708a0"
      },
      "outputs": [
        {
          "data": {
            "text/plain": [
              "(1501, 1503)"
            ]
          },
          "execution_count": 4,
          "metadata": {},
          "output_type": "execute_result"
        }
      ],
      "source": [
        "SIZE = 224\n",
        "\n",
        "path = PATH + r\"/brain_tumor_dataset\"\n",
        "\n",
        "yes_tumor_path = path + r\"/yes\"\n",
        "no_tumor_path = path + r\"/no\"\n",
        "\n",
        "yes_tumor = os.listdir(yes_tumor_path)\n",
        "no_tumor = os.listdir(no_tumor_path)\n",
        "\n",
        "len(os.listdir(no_tumor_path)), len(os.listdir(yes_tumor_path))"
      ]
    },
    {
      "cell_type": "code",
      "execution_count": 5,
      "metadata": {
        "id": "XJvaBw0GB00U"
      },
      "outputs": [],
      "source": [
        "# Resize yes_tumor images\n",
        "for p in yes_tumor:\n",
        "    path = yes_tumor_path+\"/\"+p\n",
        "    # resize_save(path)\n",
        "    try:\n",
        "        im = Image.open(path)\n",
        "        im = im.resize((SIZE, SIZE))\n",
        "        im.save(path)\n",
        "    except:\n",
        "        print(path)\n",
        "        break\n",
        "# Resize no_tumor\n",
        "for p in no_tumor:\n",
        "    path = no_tumor_path+\"/\"+p\n",
        "    # resize_save(path)\n",
        "    try:\n",
        "        im = Image.open(path)\n",
        "        im = im.resize((SIZE, SIZE))\n",
        "        im.save(path)\n",
        "    except:\n",
        "        print(path)\n",
        "        break"
      ]
    },
    {
      "cell_type": "code",
      "execution_count": 6,
      "metadata": {
        "colab": {
          "base_uri": "https://localhost:8080/"
        },
        "id": "MR_6HcWfB43Z",
        "outputId": "b6a013e9-032a-459f-a259-53d98f272ac9"
      },
      "outputs": [
        {
          "data": {
            "text/plain": [
              "(1503, 1501)"
            ]
          },
          "execution_count": 6,
          "metadata": {},
          "output_type": "execute_result"
        }
      ],
      "source": [
        "len(os.listdir(yes_tumor_path)), len(os.listdir(no_tumor_path))"
      ]
    },
    {
      "cell_type": "code",
      "execution_count": 8,
      "metadata": {
        "colab": {
          "base_uri": "https://localhost:8080/"
        },
        "id": "8O3CSvMCB80m",
        "outputId": "952033b3-4024-4054-a003-d5b40fa0de9f"
      },
      "outputs": [
        {
          "data": {
            "text/plain": [
              "(3004, 3004)"
            ]
          },
          "execution_count": 8,
          "metadata": {},
          "output_type": "execute_result"
        }
      ],
      "source": [
        "data = []\n",
        "label = []\n",
        "\n",
        "for p in yes_tumor:\n",
        "  path = yes_tumor_path+\"/\"+p\n",
        "  image = cv.imread(path)\n",
        "  data.append(image)\n",
        "  label.append(1)\n",
        "\n",
        "for p in no_tumor:\n",
        "  path = no_tumor_path+\"/\"+p\n",
        "  image = cv.imread(path)\n",
        "  data.append(image)\n",
        "  label.append(0)\n",
        "\n",
        "len(data), len(label) \n",
        "# data[0]"
      ]
    },
    {
      "cell_type": "code",
      "execution_count": 9,
      "metadata": {
        "colab": {
          "base_uri": "https://localhost:8080/"
        },
        "id": "jdfoJdHpB_4U",
        "outputId": "d51c9d3f-ba69-42e5-b155-bb0d4e68f615"
      },
      "outputs": [
        {
          "data": {
            "text/plain": [
              "((3004, 224, 224, 3), (3004,))"
            ]
          },
          "execution_count": 9,
          "metadata": {},
          "output_type": "execute_result"
        }
      ],
      "source": [
        "data = np.array(data)/255.0\n",
        "label = np.array(label)\n",
        "\n",
        "data.shape, label.shape"
      ]
    },
    {
      "cell_type": "code",
      "execution_count": 10,
      "metadata": {
        "colab": {
          "base_uri": "https://localhost:8080/"
        },
        "id": "1Z3uj1E1CHY6",
        "outputId": "c776dc4d-0e32-4331-cdcf-6e209ebb7be4"
      },
      "outputs": [
        {
          "data": {
            "text/plain": [
              "((2403, 224, 224, 3), (601, 224, 224, 3), (2403,), (601,))"
            ]
          },
          "execution_count": 10,
          "metadata": {},
          "output_type": "execute_result"
        }
      ],
      "source": [
        "from sklearn.model_selection import train_test_split as tts\n",
        "x_train, x_test, y_train, y_test = tts(data, label, test_size = 0.20)\n",
        "\n",
        "x_train.shape, x_test.shape, y_train.shape, y_test.shape"
      ]
    },
    {
      "cell_type": "code",
      "execution_count": 11,
      "metadata": {
        "id": "FRebwbG4CJuR"
      },
      "outputs": [],
      "source": [
        "from tensorflow.keras.models import Sequential\n",
        "from tensorflow.keras.layers import Conv2D, MaxPooling2D, Flatten, Dropout, Dense\n",
        "from tensorflow.keras.optimizers import Adam\n",
        "from tensorflow.keras.losses import BinaryCrossentropy"
      ]
    },
    {
      "cell_type": "code",
      "execution_count": 12,
      "metadata": {
        "colab": {
          "base_uri": "https://localhost:8080/"
        },
        "id": "8wrC2INWCL9h",
        "outputId": "7eba8870-c2be-44de-f67d-011d666165c1"
      },
      "outputs": [
        {
          "name": "stdout",
          "output_type": "stream",
          "text": [
            "Epoch 1/10\n",
            "151/151 [==============================] - 16s 28ms/step - loss: 0.5123 - accuracy: 0.7903 - val_loss: 0.3270 - val_accuracy: 0.8852\n",
            "Epoch 2/10\n",
            "151/151 [==============================] - 4s 25ms/step - loss: 0.2158 - accuracy: 0.9189 - val_loss: 0.1471 - val_accuracy: 0.9484\n",
            "Epoch 3/10\n",
            "151/151 [==============================] - 4s 25ms/step - loss: 0.1062 - accuracy: 0.9680 - val_loss: 0.1035 - val_accuracy: 0.9551\n",
            "Epoch 4/10\n",
            "151/151 [==============================] - 4s 25ms/step - loss: 0.0447 - accuracy: 0.9900 - val_loss: 0.0911 - val_accuracy: 0.9784\n",
            "Epoch 5/10\n",
            "151/151 [==============================] - 4s 25ms/step - loss: 0.0276 - accuracy: 0.9917 - val_loss: 0.1013 - val_accuracy: 0.9700\n",
            "Epoch 6/10\n",
            "151/151 [==============================] - 4s 25ms/step - loss: 0.0247 - accuracy: 0.9921 - val_loss: 0.0439 - val_accuracy: 0.9884\n",
            "Epoch 7/10\n",
            "151/151 [==============================] - 4s 25ms/step - loss: 0.0423 - accuracy: 0.9859 - val_loss: 0.0615 - val_accuracy: 0.9834\n",
            "Epoch 8/10\n",
            "151/151 [==============================] - 4s 25ms/step - loss: 0.0068 - accuracy: 0.9975 - val_loss: 0.0791 - val_accuracy: 0.9817\n",
            "Epoch 9/10\n",
            "151/151 [==============================] - 4s 25ms/step - loss: 8.7704e-04 - accuracy: 1.0000 - val_loss: 0.0471 - val_accuracy: 0.9917\n",
            "Epoch 10/10\n",
            "151/151 [==============================] - 4s 25ms/step - loss: 1.2677e-04 - accuracy: 1.0000 - val_loss: 0.0483 - val_accuracy: 0.9917\n"
          ]
        }
      ],
      "source": [
        "# Initializing CNN\n",
        "cnn=tf.keras.models.Sequential()\n",
        "\n",
        "# adding first layer\n",
        "cnn.add(tf.keras.layers.Conv2D(filters=32,kernel_size=3,padding='same',activation='relu',input_shape=[224,224,3]))\n",
        "cnn.add(tf.keras.layers.MaxPool2D(pool_size=2))\n",
        "\n",
        "# adding second layer\n",
        "cnn.add(tf.keras.layers.Conv2D(filters=64,kernel_size=3,padding='same',activation='relu'))\n",
        "cnn.add(tf.keras.layers.MaxPool2D(pool_size=2))\n",
        "\n",
        "# adding third layer\n",
        "cnn.add(tf.keras.layers.Conv2D(filters=256,kernel_size=3,padding='same',activation='relu'))\n",
        "cnn.add(tf.keras.layers.MaxPool2D(pool_size=2))\n",
        "\n",
        "# Flattening\n",
        "cnn.add(tf.keras.layers.Flatten())\n",
        "\n",
        "# Fully connected layer\n",
        "cnn.add(tf.keras.layers.Dense(units=128,activation='relu'))\n",
        "\n",
        "# Output layers\n",
        "cnn.add(tf.keras.layers.Dense(units=1,activation='sigmoid'))\n",
        "\n",
        "cnn.compile(optimizer=Adam(), loss = BinaryCrossentropy(),  metrics = [\"accuracy\"])\n",
        "history = cnn.fit(x_train, y_train, epochs = 10, validation_data=(x_test, y_test), batch_size = 16)\n",
        "\n",
        "cnn.save(\"Big_Brain_tumor_cnn_2.h5\")"
      ]
    },
    {
      "cell_type": "code",
      "execution_count": 14,
      "metadata": {
        "colab": {
          "base_uri": "https://localhost:8080/"
        },
        "id": "y7Kd9W9OEHmr",
        "outputId": "e6437e90-7a32-40c1-c4c2-f1aaf7a72b58"
      },
      "outputs": [
        {
          "name": "stdout",
          "output_type": "stream",
          "text": [
            "Model: \"sequential\"\n",
            "_________________________________________________________________\n",
            " Layer (type)                Output Shape              Param #   \n",
            "=================================================================\n",
            " conv2d (Conv2D)             (None, 224, 224, 32)      896       \n",
            "                                                                 \n",
            " max_pooling2d (MaxPooling2D  (None, 112, 112, 32)     0         \n",
            " )                                                               \n",
            "                                                                 \n",
            " conv2d_1 (Conv2D)           (None, 112, 112, 64)      18496     \n",
            "                                                                 \n",
            " max_pooling2d_1 (MaxPooling  (None, 56, 56, 64)       0         \n",
            " 2D)                                                             \n",
            "                                                                 \n",
            " conv2d_2 (Conv2D)           (None, 56, 56, 256)       147712    \n",
            "                                                                 \n",
            " max_pooling2d_2 (MaxPooling  (None, 28, 28, 256)      0         \n",
            " 2D)                                                             \n",
            "                                                                 \n",
            " flatten (Flatten)           (None, 200704)            0         \n",
            "                                                                 \n",
            " dense (Dense)               (None, 128)               25690240  \n",
            "                                                                 \n",
            " dense_1 (Dense)             (None, 1)                 129       \n",
            "                                                                 \n",
            "=================================================================\n",
            "Total params: 25,857,473\n",
            "Trainable params: 25,857,473\n",
            "Non-trainable params: 0\n",
            "_________________________________________________________________\n"
          ]
        }
      ],
      "source": [
        "cnn.summary()"
      ]
    },
    {
      "cell_type": "code",
      "execution_count": 13,
      "metadata": {
        "id": "pH5TV_VpD-bN"
      },
      "outputs": [],
      "source": [
        "from sklearn.metrics import confusion_matrix, classification_report"
      ]
    },
    {
      "cell_type": "code",
      "execution_count": 15,
      "metadata": {
        "colab": {
          "base_uri": "https://localhost:8080/"
        },
        "id": "Jf2qcITFC6j8",
        "outputId": "b76cf685-6bde-4a50-8e1d-92be7d0489a0"
      },
      "outputs": [
        {
          "data": {
            "text/plain": [
              "array([[310,   3],\n",
              "       [  2, 286]])"
            ]
          },
          "execution_count": 15,
          "metadata": {},
          "output_type": "execute_result"
        }
      ],
      "source": [
        "y_preds = (cnn.predict(x_test) > 0.5).astype(\"int32\")\n",
        "y_preds = y_preds.squeeze()\n",
        "(confusion_matrix(y_test, y_preds))\n"
      ]
    },
    {
      "cell_type": "code",
      "execution_count": 16,
      "metadata": {
        "colab": {
          "base_uri": "https://localhost:8080/"
        },
        "id": "dAvdLCBIESap",
        "outputId": "cf5b92c5-e772-4460-a4c1-3ce18e10c35f"
      },
      "outputs": [
        {
          "name": "stdout",
          "output_type": "stream",
          "text": [
            "              precision    recall  f1-score   support\n",
            "\n",
            "           0       0.99      0.99      0.99       313\n",
            "           1       0.99      0.99      0.99       288\n",
            "\n",
            "    accuracy                           0.99       601\n",
            "   macro avg       0.99      0.99      0.99       601\n",
            "weighted avg       0.99      0.99      0.99       601\n",
            "\n"
          ]
        }
      ],
      "source": [
        "print(classification_report(y_test, y_preds))"
      ]
    },
    {
      "cell_type": "code",
      "execution_count": null,
      "metadata": {
        "id": "1y2mySbrEUBM"
      },
      "outputs": [],
      "source": []
    }
  ],
  "metadata": {
    "accelerator": "GPU",
    "colab": {
      "collapsed_sections": [],
      "machine_shape": "hm",
      "name": "Untitled4.ipynb",
      "provenance": []
    },
    "interpreter": {
      "hash": "86d6111edaf2bc7a25cbb4457e82551a288b5f2fc072d6d36b96ca805b8fe1b8"
    },
    "kernelspec": {
      "display_name": "Python 3.9.7 ('base')",
      "language": "python",
      "name": "python3"
    },
    "language_info": {
      "name": "python",
      "version": "3.9.7"
    }
  },
  "nbformat": 4,
  "nbformat_minor": 0
}
